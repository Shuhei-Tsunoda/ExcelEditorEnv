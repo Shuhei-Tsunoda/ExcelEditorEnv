{
 "cells": [
  {
   "cell_type": "markdown",
   "metadata": {},
   "source": [
    "# Excelファイルを読み込み、内容を変更する"
   ]
  },
  {
   "cell_type": "code",
   "execution_count": 1,
   "metadata": {},
   "outputs": [],
   "source": [
    "import shutil\n",
    "\n",
    "import numpy as np\n",
    "import pandas as pd\n",
    "import openpyxl\n",
    "import seaborn as sns\n",
    "\n",
    "% %matplotlib inline"
   ]
  },
  {
   "cell_type": "markdown",
   "metadata": {},
   "source": [
    "## そのまま読み込む"
   ]
  },
  {
   "cell_type": "code",
   "execution_count": 2,
   "metadata": {},
   "outputs": [
    {
     "data": {
      "text/html": [
       "<div>\n",
       "<style scoped>\n",
       "    .dataframe tbody tr th:only-of-type {\n",
       "        vertical-align: middle;\n",
       "    }\n",
       "\n",
       "    .dataframe tbody tr th {\n",
       "        vertical-align: top;\n",
       "    }\n",
       "\n",
       "    .dataframe thead th {\n",
       "        text-align: right;\n",
       "    }\n",
       "</style>\n",
       "<table border=\"1\" class=\"dataframe\">\n",
       "  <thead>\n",
       "    <tr style=\"text-align: right;\">\n",
       "      <th></th>\n",
       "      <th>0</th>\n",
       "      <th>1</th>\n",
       "      <th>2</th>\n",
       "      <th>3</th>\n",
       "      <th>4</th>\n",
       "      <th>5</th>\n",
       "    </tr>\n",
       "  </thead>\n",
       "  <tbody>\n",
       "    <tr>\n",
       "      <th>0</th>\n",
       "      <td>NaN</td>\n",
       "      <td>NaN</td>\n",
       "      <td>NaN</td>\n",
       "      <td>NaN</td>\n",
       "      <td>NaN</td>\n",
       "      <td>NaN</td>\n",
       "    </tr>\n",
       "    <tr>\n",
       "      <th>1</th>\n",
       "      <td>NaN</td>\n",
       "      <td>なんか説明なんか説明なんか説明なんか説明なんか説明</td>\n",
       "      <td>NaN</td>\n",
       "      <td>NaN</td>\n",
       "      <td>NaN</td>\n",
       "      <td>NaN</td>\n",
       "    </tr>\n",
       "    <tr>\n",
       "      <th>2</th>\n",
       "      <td>NaN</td>\n",
       "      <td>NaN</td>\n",
       "      <td>NaN</td>\n",
       "      <td>NaN</td>\n",
       "      <td>NaN</td>\n",
       "      <td>NaN</td>\n",
       "    </tr>\n",
       "    <tr>\n",
       "      <th>3</th>\n",
       "      <td>NaN</td>\n",
       "      <td>番号</td>\n",
       "      <td>名前</td>\n",
       "      <td>社員No</td>\n",
       "      <td>成績</td>\n",
       "      <td>備考</td>\n",
       "    </tr>\n",
       "    <tr>\n",
       "      <th>4</th>\n",
       "      <td>NaN</td>\n",
       "      <td>10</td>\n",
       "      <td>あ</td>\n",
       "      <td>01001</td>\n",
       "      <td>50</td>\n",
       "      <td>NaN</td>\n",
       "    </tr>\n",
       "    <tr>\n",
       "      <th>5</th>\n",
       "      <td>NaN</td>\n",
       "      <td>11</td>\n",
       "      <td>い</td>\n",
       "      <td>01002</td>\n",
       "      <td>51</td>\n",
       "      <td>なにか</td>\n",
       "    </tr>\n",
       "    <tr>\n",
       "      <th>6</th>\n",
       "      <td>NaN</td>\n",
       "      <td>12</td>\n",
       "      <td>う</td>\n",
       "      <td>01003</td>\n",
       "      <td>52</td>\n",
       "      <td>NaN</td>\n",
       "    </tr>\n",
       "    <tr>\n",
       "      <th>7</th>\n",
       "      <td>NaN</td>\n",
       "      <td>13</td>\n",
       "      <td>え</td>\n",
       "      <td>01004</td>\n",
       "      <td>53</td>\n",
       "      <td>NaN</td>\n",
       "    </tr>\n",
       "    <tr>\n",
       "      <th>8</th>\n",
       "      <td>NaN</td>\n",
       "      <td>14</td>\n",
       "      <td>お</td>\n",
       "      <td>01005</td>\n",
       "      <td>54</td>\n",
       "      <td>NaN</td>\n",
       "    </tr>\n",
       "    <tr>\n",
       "      <th>9</th>\n",
       "      <td>NaN</td>\n",
       "      <td>15</td>\n",
       "      <td>か</td>\n",
       "      <td>01006</td>\n",
       "      <td>55</td>\n",
       "      <td>NaN</td>\n",
       "    </tr>\n",
       "    <tr>\n",
       "      <th>10</th>\n",
       "      <td>NaN</td>\n",
       "      <td>16</td>\n",
       "      <td>き</td>\n",
       "      <td>01007</td>\n",
       "      <td>56</td>\n",
       "      <td>NaN</td>\n",
       "    </tr>\n",
       "  </tbody>\n",
       "</table>\n",
       "</div>"
      ],
      "text/plain": [
       "     0                          1    2      3    4    5\n",
       "0  NaN                        NaN  NaN    NaN  NaN  NaN\n",
       "1  NaN  なんか説明なんか説明なんか説明なんか説明なんか説明  NaN    NaN  NaN  NaN\n",
       "2  NaN                        NaN  NaN    NaN  NaN  NaN\n",
       "3  NaN                         番号   名前   社員No   成績   備考\n",
       "4  NaN                         10    あ  01001   50  NaN\n",
       "5  NaN                         11    い  01002   51  なにか\n",
       "6  NaN                         12    う  01003   52  NaN\n",
       "7  NaN                         13    え  01004   53  NaN\n",
       "8  NaN                         14    お  01005   54  NaN\n",
       "9  NaN                         15    か  01006   55  NaN\n",
       "10 NaN                         16    き  01007   56  NaN"
      ]
     },
     "execution_count": 2,
     "metadata": {},
     "output_type": "execute_result"
    }
   ],
   "source": [
    "src = 'resource/simple_table.xlsx'\n",
    "df_raw = pd.read_excel(src, header=None)\n",
    "df_raw"
   ]
  },
  {
   "cell_type": "markdown",
   "metadata": {},
   "source": [
    "## 範囲などを指定して読み込む"
   ]
  },
  {
   "cell_type": "code",
   "execution_count": 3,
   "metadata": {},
   "outputs": [
    {
     "data": {
      "text/html": [
       "<div>\n",
       "<style scoped>\n",
       "    .dataframe tbody tr th:only-of-type {\n",
       "        vertical-align: middle;\n",
       "    }\n",
       "\n",
       "    .dataframe tbody tr th {\n",
       "        vertical-align: top;\n",
       "    }\n",
       "\n",
       "    .dataframe thead th {\n",
       "        text-align: right;\n",
       "    }\n",
       "</style>\n",
       "<table border=\"1\" class=\"dataframe\">\n",
       "  <thead>\n",
       "    <tr style=\"text-align: right;\">\n",
       "      <th></th>\n",
       "      <th>名前</th>\n",
       "      <th>社員No</th>\n",
       "      <th>成績</th>\n",
       "      <th>備考</th>\n",
       "    </tr>\n",
       "    <tr>\n",
       "      <th>番号</th>\n",
       "      <th></th>\n",
       "      <th></th>\n",
       "      <th></th>\n",
       "      <th></th>\n",
       "    </tr>\n",
       "  </thead>\n",
       "  <tbody>\n",
       "    <tr>\n",
       "      <th>10</th>\n",
       "      <td>あ</td>\n",
       "      <td>01001</td>\n",
       "      <td>50</td>\n",
       "      <td></td>\n",
       "    </tr>\n",
       "    <tr>\n",
       "      <th>11</th>\n",
       "      <td>い</td>\n",
       "      <td>01002</td>\n",
       "      <td>51</td>\n",
       "      <td>なにか</td>\n",
       "    </tr>\n",
       "    <tr>\n",
       "      <th>12</th>\n",
       "      <td>う</td>\n",
       "      <td>01003</td>\n",
       "      <td>52</td>\n",
       "      <td></td>\n",
       "    </tr>\n",
       "    <tr>\n",
       "      <th>13</th>\n",
       "      <td>え</td>\n",
       "      <td>01004</td>\n",
       "      <td>53</td>\n",
       "      <td></td>\n",
       "    </tr>\n",
       "    <tr>\n",
       "      <th>14</th>\n",
       "      <td>お</td>\n",
       "      <td>01005</td>\n",
       "      <td>54</td>\n",
       "      <td></td>\n",
       "    </tr>\n",
       "    <tr>\n",
       "      <th>15</th>\n",
       "      <td>か</td>\n",
       "      <td>01006</td>\n",
       "      <td>55</td>\n",
       "      <td></td>\n",
       "    </tr>\n",
       "    <tr>\n",
       "      <th>16</th>\n",
       "      <td>き</td>\n",
       "      <td>01007</td>\n",
       "      <td>56</td>\n",
       "      <td></td>\n",
       "    </tr>\n",
       "  </tbody>\n",
       "</table>\n",
       "</div>"
      ],
      "text/plain": [
       "   名前   社員No  成績   備考\n",
       "番号                   \n",
       "10  あ  01001  50     \n",
       "11  い  01002  51  なにか\n",
       "12  う  01003  52     \n",
       "13  え  01004  53     \n",
       "14  お  01005  54     \n",
       "15  か  01006  55     \n",
       "16  き  01007  56     "
      ]
     },
     "execution_count": 3,
     "metadata": {},
     "output_type": "execute_result"
    }
   ],
   "source": [
    "df = pd.read_excel('resource/simple_table.xlsx',\n",
    "                   header=3,\n",
    "                   usecols=[*range(1, 6)],\n",
    "                   index_col='番号',\n",
    "                   dtype={'社員No': str})\n",
    "df = df.fillna(value='')\n",
    "df"
   ]
  },
  {
   "cell_type": "markdown",
   "metadata": {},
   "source": [
    "## 内容を修正する"
   ]
  },
  {
   "cell_type": "code",
   "execution_count": 4,
   "metadata": {},
   "outputs": [
    {
     "data": {
      "text/html": [
       "<div>\n",
       "<style scoped>\n",
       "    .dataframe tbody tr th:only-of-type {\n",
       "        vertical-align: middle;\n",
       "    }\n",
       "\n",
       "    .dataframe tbody tr th {\n",
       "        vertical-align: top;\n",
       "    }\n",
       "\n",
       "    .dataframe thead th {\n",
       "        text-align: right;\n",
       "    }\n",
       "</style>\n",
       "<table border=\"1\" class=\"dataframe\">\n",
       "  <thead>\n",
       "    <tr style=\"text-align: right;\">\n",
       "      <th></th>\n",
       "      <th>名前</th>\n",
       "      <th>社員No</th>\n",
       "      <th>成績</th>\n",
       "      <th>備考</th>\n",
       "    </tr>\n",
       "    <tr>\n",
       "      <th>番号</th>\n",
       "      <th></th>\n",
       "      <th></th>\n",
       "      <th></th>\n",
       "      <th></th>\n",
       "    </tr>\n",
       "  </thead>\n",
       "  <tbody>\n",
       "    <tr>\n",
       "      <th>10</th>\n",
       "      <td>木村 あ</td>\n",
       "      <td>01001</td>\n",
       "      <td>50</td>\n",
       "      <td></td>\n",
       "    </tr>\n",
       "    <tr>\n",
       "      <th>11</th>\n",
       "      <td>木村 い</td>\n",
       "      <td>01002</td>\n",
       "      <td>51</td>\n",
       "      <td>なにか</td>\n",
       "    </tr>\n",
       "    <tr>\n",
       "      <th>12</th>\n",
       "      <td>木村 う</td>\n",
       "      <td>01003</td>\n",
       "      <td>52</td>\n",
       "      <td></td>\n",
       "    </tr>\n",
       "    <tr>\n",
       "      <th>13</th>\n",
       "      <td>木村 え</td>\n",
       "      <td>01004</td>\n",
       "      <td>53</td>\n",
       "      <td></td>\n",
       "    </tr>\n",
       "    <tr>\n",
       "      <th>14</th>\n",
       "      <td>木村 お</td>\n",
       "      <td>01005</td>\n",
       "      <td>54</td>\n",
       "      <td></td>\n",
       "    </tr>\n",
       "    <tr>\n",
       "      <th>15</th>\n",
       "      <td>木村 か</td>\n",
       "      <td>01006</td>\n",
       "      <td>55</td>\n",
       "      <td></td>\n",
       "    </tr>\n",
       "    <tr>\n",
       "      <th>16</th>\n",
       "      <td>木村 き</td>\n",
       "      <td>01007</td>\n",
       "      <td>56</td>\n",
       "      <td></td>\n",
       "    </tr>\n",
       "  </tbody>\n",
       "</table>\n",
       "</div>"
      ],
      "text/plain": [
       "      名前   社員No  成績   備考\n",
       "番号                      \n",
       "10  木村 あ  01001  50     \n",
       "11  木村 い  01002  51  なにか\n",
       "12  木村 う  01003  52     \n",
       "13  木村 え  01004  53     \n",
       "14  木村 お  01005  54     \n",
       "15  木村 か  01006  55     \n",
       "16  木村 き  01007  56     "
      ]
     },
     "execution_count": 4,
     "metadata": {},
     "output_type": "execute_result"
    }
   ],
   "source": [
    "df['名前'] = '木村 ' + df['名前']\n",
    "df"
   ]
  },
  {
   "cell_type": "markdown",
   "metadata": {},
   "source": [
    "## 新しいシートへ書き込む（セル書式はリセット）"
   ]
  },
  {
   "cell_type": "code",
   "execution_count": 5,
   "metadata": {},
   "outputs": [],
   "source": [
    "dist = 'resource/simple_table_new_sheet.xlsx'\n",
    "shutil.copy(src, dist)\n",
    "\n",
    "with pd.ExcelWriter(dist) as writer:\n",
    "    writer.book = openpyxl.load_workbook(dist)\n",
    "    df.to_excel(writer, sheet_name='new_sheet')"
   ]
  },
  {
   "cell_type": "markdown",
   "metadata": {},
   "source": [
    "## 元々のシートへ上書きする"
   ]
  },
  {
   "cell_type": "code",
   "execution_count": 6,
   "metadata": {},
   "outputs": [],
   "source": [
    "dist = 'dist/simple_table_overwritten.xlsx'\n",
    "shutil.copy(src, dist)\n",
    "\n",
    "wb = openpyxl.load_workbook(dist)\n",
    "ws = wb['Sheet1']\n",
    "for (_, df_row), row in zip(df.iterrows(), ws['C5:F11']):\n",
    "    for (_, df_cell), cell in zip(df_row.iteritems(), row):\n",
    "        cell.value = str(df_cell)\n",
    "\n",
    "wb.save(dist)"
   ]
  },
  {
   "cell_type": "markdown",
   "metadata": {},
   "source": [
    "## 元々のシートへ画像を追加する"
   ]
  },
  {
   "cell_type": "markdown",
   "metadata": {},
   "source": [
    "### 画像を作成する"
   ]
  },
  {
   "cell_type": "code",
   "execution_count": 7,
   "metadata": {},
   "outputs": [],
   "source": [
    "sns.set(font='IPAexGothic')"
   ]
  },
  {
   "cell_type": "code",
   "execution_count": 8,
   "metadata": {},
   "outputs": [
    {
     "data": {
      "image/png": "[encoded data removed]",
      "text/plain": [
       "<Figure size 720x360 with 1 Axes>"
      ]
     },
     "metadata": {},
     "output_type": "display_data"
    }
   ],
   "source": [
    "ax = df.set_index('名前')['成績'].plot(\n",
    "    kind='bar',\n",
    "    title=f'成績',\n",
    "    figsize=(10, 5),\n",
    "    rot=0,\n",
    ")"
   ]
  },
  {
   "cell_type": "code",
   "execution_count": 9,
   "metadata": {},
   "outputs": [],
   "source": [
    "image_dist = 'dist/simple_table_score.png'\n",
    "ax.figure.savefig(image_dist)"
   ]
  },
  {
   "cell_type": "markdown",
   "metadata": {},
   "source": [
    "### Excelシートへ画像を追加する"
   ]
  },
  {
   "cell_type": "code",
   "execution_count": 10,
   "metadata": {},
   "outputs": [],
   "source": [
    "dist = 'dist/simple_table_add_image.xlsx'\n",
    "shutil.copy(src, dist)\n",
    "\n",
    "wb = openpyxl.load_workbook(dist)\n",
    "ws = wb['Sheet1']\n",
    "\n",
    "img = openpyxl.drawing.image.Image(image_dist)\n",
    "ws.add_image(img, 'H5')\n",
    "\n",
    "wb.save(dist)"
   ]
  },
  {
   "cell_type": "code",
   "execution_count": null,
   "metadata": {},
   "outputs": [],
   "source": []
  }
 ],
 "metadata": {
  "kernelspec": {
   "display_name": "Python 3",
   "language": "python",
   "name": "python3"
  },
  "language_info": {
   "codemirror_mode": {
    "name": "ipython",
    "version": 3
   },
   "file_extension": ".py",
   "mimetype": "text/x-python",
   "name": "python",
   "nbconvert_exporter": "python",
   "pygments_lexer": "ipython3",
   "version": "3.7.0"
  }
 },
 "nbformat": 4,
 "nbformat_minor": 2
}
